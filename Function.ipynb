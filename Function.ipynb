{
 "cells": [
  {
   "cell_type": "code",
   "execution_count": null,
   "id": "199538ba",
   "metadata": {},
   "outputs": [],
   "source": []
  },
  {
   "cell_type": "code",
   "execution_count": 3,
   "id": "d70e1ebf",
   "metadata": {},
   "outputs": [],
   "source": [
    "def hello():\n",
    "    print(\"hello World\")\n",
    "    return"
   ]
  },
  {
   "cell_type": "code",
   "execution_count": 23,
   "id": "dc32631e",
   "metadata": {},
   "outputs": [],
   "source": [
    "def personel_details(name,age,address,cnum,hobby=0):\n",
    "    print(\"name:\",name)\n",
    "    print(\"age:\",age)\n",
    "    print(\"address:\",address)\n",
    "    print(\"cnum:\",cnum)\n",
    "    print(\"hobby:\",hobby)"
   ]
  },
  {
   "cell_type": "code",
   "execution_count": 24,
   "id": "afd0fe01",
   "metadata": {},
   "outputs": [
    {
     "name": "stdout",
     "output_type": "stream",
     "text": [
      "name: moqeem\n",
      "age: 27\n",
      "address: satara\n",
      "cnum: 7483920\n",
      "hobby: playing cricket\n"
     ]
    }
   ],
   "source": [
    "personel_details(\"moqeem\",27,\"satara\",7483920,\"playing cricket\")"
   ]
  },
  {
   "cell_type": "code",
   "execution_count": 7,
   "id": "a1609bce",
   "metadata": {},
   "outputs": [
    {
     "name": "stdout",
     "output_type": "stream",
     "text": [
      "enter the statement:This is what i want to say\n",
      "Hello This is what i want to say\n"
     ]
    }
   ],
   "source": [
    "def hello():\n",
    "    name = str(input(\"enter the statement:\"))\n",
    "    if name:\n",
    "        print(\"Hello \" + str(name))\n",
    "    else:\n",
    "        print(\"Hello World\")\n",
    "    return\n",
    "hello()"
   ]
  },
  {
   "cell_type": "code",
   "execution_count": 11,
   "id": "81dcec06",
   "metadata": {},
   "outputs": [
    {
     "name": "stdout",
     "output_type": "stream",
     "text": [
      "Hello World\n"
     ]
    },
    {
     "ename": "TypeError",
     "evalue": "unsupported operand type(s) for *: 'NoneType' and 'int'",
     "output_type": "error",
     "traceback": [
      "\u001b[1;31m---------------------------------------------------------------------------\u001b[0m",
      "\u001b[1;31mTypeError\u001b[0m                                 Traceback (most recent call last)",
      "\u001b[1;32m~\\AppData\\Local\\Temp/ipykernel_10788/3784063103.py\u001b[0m in \u001b[0;36m<module>\u001b[1;34m\u001b[0m\n\u001b[0;32m      1\u001b[0m \u001b[1;32mdef\u001b[0m \u001b[0mhello_noreturn\u001b[0m\u001b[1;33m(\u001b[0m\u001b[1;33m)\u001b[0m\u001b[1;33m:\u001b[0m\u001b[1;33m\u001b[0m\u001b[1;33m\u001b[0m\u001b[0m\n\u001b[0;32m      2\u001b[0m     \u001b[0mprint\u001b[0m\u001b[1;33m(\u001b[0m\u001b[1;34m\"Hello World\"\u001b[0m\u001b[1;33m)\u001b[0m\u001b[1;33m\u001b[0m\u001b[1;33m\u001b[0m\u001b[0m\n\u001b[1;32m----> 3\u001b[1;33m \u001b[0mhello_noreturn\u001b[0m\u001b[1;33m(\u001b[0m\u001b[1;33m)\u001b[0m\u001b[1;33m*\u001b[0m\u001b[1;36m2\u001b[0m\u001b[1;33m\u001b[0m\u001b[1;33m\u001b[0m\u001b[0m\n\u001b[0m",
      "\u001b[1;31mTypeError\u001b[0m: unsupported operand type(s) for *: 'NoneType' and 'int'"
     ]
    }
   ],
   "source": [
    "def hello_noreturn():\n",
    "    print(\"Hello World\")\n",
    "hello_noreturn()*2"
   ]
  },
  {
   "cell_type": "code",
   "execution_count": 10,
   "id": "5734cb3c",
   "metadata": {},
   "outputs": [
    {
     "name": "stdout",
     "output_type": "stream",
     "text": [
      "Hello World\n"
     ]
    },
    {
     "data": {
      "text/plain": [
       "'hellohello'"
      ]
     },
     "execution_count": 10,
     "metadata": {},
     "output_type": "execute_result"
    }
   ],
   "source": [
    "def hello():\n",
    "  print(\"Hello World\") \n",
    "  return(\"hello\")\n",
    "hello()*2"
   ]
  },
  {
   "cell_type": "code",
   "execution_count": 15,
   "id": "31039f25",
   "metadata": {},
   "outputs": [
    {
     "name": "stdout",
     "output_type": "stream",
     "text": [
      "Run!\n",
      "Run!\n"
     ]
    }
   ],
   "source": [
    "def run():\n",
    "    for x in range(10):\n",
    "        if x==2:\n",
    "         return\n",
    "        print(\"Run!\")\n",
    "run()"
   ]
  },
  {
   "cell_type": "code",
   "execution_count": 23,
   "id": "d2cec152",
   "metadata": {},
   "outputs": [
    {
     "data": {
      "text/plain": [
       "13"
      ]
     },
     "execution_count": 23,
     "metadata": {},
     "output_type": "execute_result"
    }
   ],
   "source": [
    "def plus(a,b=0):\n",
    "    return a+b\n",
    "plus(a=3, b=10)"
   ]
  },
  {
   "cell_type": "code",
   "execution_count": 30,
   "id": "6a3daf7b",
   "metadata": {},
   "outputs": [
    {
     "data": {
      "text/plain": [
       "-45"
      ]
     },
     "execution_count": 30,
     "metadata": {},
     "output_type": "execute_result"
    }
   ],
   "source": [
    "def mul(a,b):\n",
    "    return a*b\n",
    "mul(5,-9)"
   ]
  },
  {
   "cell_type": "code",
   "execution_count": 31,
   "id": "37be294a",
   "metadata": {},
   "outputs": [
    {
     "data": {
      "text/plain": [
       "2.0"
      ]
     },
     "execution_count": 31,
     "metadata": {},
     "output_type": "execute_result"
    }
   ],
   "source": [
    "def plus(a,b):\n",
    "    return a/b\n",
    "plus(4,2)"
   ]
  },
  {
   "cell_type": "code",
   "execution_count": 33,
   "id": "c1939551",
   "metadata": {},
   "outputs": [
    {
     "data": {
      "text/plain": [
       "0.5"
      ]
     },
     "execution_count": 33,
     "metadata": {},
     "output_type": "execute_result"
    }
   ],
   "source": [
    "def div(a,b):\n",
    "    return a/b\n",
    "div(b=4,a=2)"
   ]
  },
  {
   "cell_type": "code",
   "execution_count": 35,
   "id": "c71353e6",
   "metadata": {},
   "outputs": [
    {
     "data": {
      "text/plain": [
       "13"
      ]
     },
     "execution_count": 35,
     "metadata": {},
     "output_type": "execute_result"
    }
   ],
   "source": [
    "def plus(*args):\n",
    "    return sum(args)\n",
    "plus(1,3,6,3)"
   ]
  },
  {
   "cell_type": "code",
   "execution_count": 44,
   "id": "5da55310",
   "metadata": {},
   "outputs": [
    {
     "name": "stdout",
     "output_type": "stream",
     "text": [
      "my name is Moqeem\n",
      "i am 27 year old\n",
      "i live in satara\n"
     ]
    }
   ],
   "source": [
    "def str(*args):\n",
    "    print(\"my name is Moqeem\")\n",
    "    print(\"i am 27 year old\")\n",
    "    print(\"i live in satara\")\n",
    "    return\n",
    "str()"
   ]
  },
  {
   "cell_type": "code",
   "execution_count": 50,
   "id": "c6bbe6ac",
   "metadata": {},
   "outputs": [
    {
     "name": "stdout",
     "output_type": "stream",
     "text": [
      "text\n",
      "text\n",
      "text\n",
      "text\n"
     ]
    }
   ],
   "source": [
    "def create (text, freq):\n",
    "         for i in range (1, freq):\n",
    "                print(\"text\")\n",
    "create(5,5) #function call"
   ]
  },
  {
   "cell_type": "code",
   "execution_count": 65,
   "id": "48142f5b",
   "metadata": {},
   "outputs": [
    {
     "name": "stdout",
     "output_type": "stream",
     "text": [
      "9\n"
     ]
    }
   ],
   "source": [
    "mynum1 = 9\n",
    "def add9(a,b):\n",
    "    print(mynum)\n",
    "add9(8,6)"
   ]
  },
  {
   "cell_type": "code",
   "execution_count": 14,
   "id": "558bb8c9",
   "metadata": {},
   "outputs": [
    {
     "name": "stdout",
     "output_type": "stream",
     "text": [
      "Hello,Moqeem.Good Morning!\n"
     ]
    }
   ],
   "source": [
    "def greet(name):\n",
    "    print(\"Hello,\"  +name+  \".Good Morning!\")\n",
    "greet('Moqeem')"
   ]
  },
  {
   "cell_type": "code",
   "execution_count": 15,
   "id": "eb303bc5",
   "metadata": {},
   "outputs": [
    {
     "name": "stdout",
     "output_type": "stream",
     "text": [
      "2\n",
      "4\n"
     ]
    }
   ],
   "source": [
    "def absolute_value(num):\n",
    "    if num>0:\n",
    "        return num\n",
    "    else:\n",
    "        return -num\n",
    "print(absolute_value(2))\n",
    "print(absolute_value(-4))"
   ]
  },
  {
   "cell_type": "code",
   "execution_count": null,
   "id": "62bc8c4a",
   "metadata": {},
   "outputs": [],
   "source": []
  }
 ],
 "metadata": {
  "kernelspec": {
   "display_name": "Python 3 (ipykernel)",
   "language": "python",
   "name": "python3"
  },
  "language_info": {
   "codemirror_mode": {
    "name": "ipython",
    "version": 3
   },
   "file_extension": ".py",
   "mimetype": "text/x-python",
   "name": "python",
   "nbconvert_exporter": "python",
   "pygments_lexer": "ipython3",
   "version": "3.9.7"
  }
 },
 "nbformat": 4,
 "nbformat_minor": 5
}
